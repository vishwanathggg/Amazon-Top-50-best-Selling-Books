{
 "cells": [
  {
   "cell_type": "code",
   "execution_count": 1,
   "id": "33b87539",
   "metadata": {
    "_cell_guid": "b1076dfc-b9ad-4769-8c92-a6c4dae69d19",
    "_uuid": "8f2839f25d086af736a60e9eeb907d3b93b6e0e5",
    "execution": {
     "iopub.execute_input": "2021-09-14T13:15:33.219929Z",
     "iopub.status.busy": "2021-09-14T13:15:33.215953Z",
     "iopub.status.idle": "2021-09-14T13:15:33.231913Z",
     "shell.execute_reply": "2021-09-14T13:15:33.231180Z",
     "shell.execute_reply.started": "2021-09-14T13:05:43.372769Z"
    },
    "papermill": {
     "duration": 0.04342,
     "end_time": "2021-09-14T13:15:33.232096",
     "exception": false,
     "start_time": "2021-09-14T13:15:33.188676",
     "status": "completed"
    },
    "tags": []
   },
   "outputs": [
    {
     "name": "stdout",
     "output_type": "stream",
     "text": [
      "/kaggle/input/amazon-top-50-bestselling-books-2009-2019/bestsellers with categories.csv\n"
     ]
    }
   ],
   "source": [
    "# This Python 3 environment comes with many helpful analytics libraries installed\n",
    "# It is defined by the kaggle/python Docker image: https://github.com/kaggle/docker-python\n",
    "# For example, here's several helpful packages to load\n",
    "\n",
    "import numpy as np # linear algebra\n",
    "import pandas as pd # data processing, CSV file I/O (e.g. pd.read_csv)\n",
    "\n",
    "# Input data files are available in the read-only \"../input/\" directory\n",
    "# For example, running this (by clicking run or pressing Shift+Enter) will list all files under the input directory\n",
    "\n",
    "import os\n",
    "for dirname, _, filenames in os.walk('/kaggle/input'):\n",
    "    for filename in filenames:\n",
    "        print(os.path.join(dirname, filename))\n",
    "\n",
    "# You can write up to 20GB to the current directory (/kaggle/working/) that gets preserved as output when you create a version using \"Save & Run All\" \n",
    "# You can also write temporary files to /kaggle/temp/, but they won't be saved outside of the current session"
   ]
  },
  {
   "cell_type": "code",
   "execution_count": 2,
   "id": "649bdd17",
   "metadata": {
    "execution": {
     "iopub.execute_input": "2021-09-14T13:15:33.273282Z",
     "iopub.status.busy": "2021-09-14T13:15:33.272564Z",
     "iopub.status.idle": "2021-09-14T13:15:35.688693Z",
     "shell.execute_reply": "2021-09-14T13:15:35.687513Z",
     "shell.execute_reply.started": "2021-09-14T13:05:43.399633Z"
    },
    "papermill": {
     "duration": 2.4384,
     "end_time": "2021-09-14T13:15:35.688906",
     "exception": false,
     "start_time": "2021-09-14T13:15:33.250506",
     "status": "completed"
    },
    "tags": []
   },
   "outputs": [],
   "source": [
    "import numpy as np\n",
    "import pandas as pd\n",
    "import matplotlib.pyplot as plt\n",
    "import seaborn as sns\n",
    "import plotly.express as px"
   ]
  },
  {
   "cell_type": "code",
   "execution_count": 3,
   "id": "5691dcb5",
   "metadata": {
    "execution": {
     "iopub.execute_input": "2021-09-14T13:15:35.729381Z",
     "iopub.status.busy": "2021-09-14T13:15:35.728658Z",
     "iopub.status.idle": "2021-09-14T13:15:35.776672Z",
     "shell.execute_reply": "2021-09-14T13:15:35.777212Z",
     "shell.execute_reply.started": "2021-09-14T13:05:45.781143Z"
    },
    "papermill": {
     "duration": 0.071081,
     "end_time": "2021-09-14T13:15:35.777404",
     "exception": false,
     "start_time": "2021-09-14T13:15:35.706323",
     "status": "completed"
    },
    "tags": []
   },
   "outputs": [
    {
     "data": {
      "text/html": [
       "<div>\n",
       "<style scoped>\n",
       "    .dataframe tbody tr th:only-of-type {\n",
       "        vertical-align: middle;\n",
       "    }\n",
       "\n",
       "    .dataframe tbody tr th {\n",
       "        vertical-align: top;\n",
       "    }\n",
       "\n",
       "    .dataframe thead th {\n",
       "        text-align: right;\n",
       "    }\n",
       "</style>\n",
       "<table border=\"1\" class=\"dataframe\">\n",
       "  <thead>\n",
       "    <tr style=\"text-align: right;\">\n",
       "      <th></th>\n",
       "      <th>Name</th>\n",
       "      <th>Author</th>\n",
       "      <th>User Rating</th>\n",
       "      <th>Reviews</th>\n",
       "      <th>Price</th>\n",
       "      <th>Year</th>\n",
       "      <th>Genre</th>\n",
       "    </tr>\n",
       "  </thead>\n",
       "  <tbody>\n",
       "    <tr>\n",
       "      <th>0</th>\n",
       "      <td>10-Day Green Smoothie Cleanse</td>\n",
       "      <td>JJ Smith</td>\n",
       "      <td>4.7</td>\n",
       "      <td>17350</td>\n",
       "      <td>8</td>\n",
       "      <td>2016</td>\n",
       "      <td>Non Fiction</td>\n",
       "    </tr>\n",
       "    <tr>\n",
       "      <th>1</th>\n",
       "      <td>11/22/63: A Novel</td>\n",
       "      <td>Stephen King</td>\n",
       "      <td>4.6</td>\n",
       "      <td>2052</td>\n",
       "      <td>22</td>\n",
       "      <td>2011</td>\n",
       "      <td>Fiction</td>\n",
       "    </tr>\n",
       "    <tr>\n",
       "      <th>2</th>\n",
       "      <td>12 Rules for Life: An Antidote to Chaos</td>\n",
       "      <td>Jordan B. Peterson</td>\n",
       "      <td>4.7</td>\n",
       "      <td>18979</td>\n",
       "      <td>15</td>\n",
       "      <td>2018</td>\n",
       "      <td>Non Fiction</td>\n",
       "    </tr>\n",
       "    <tr>\n",
       "      <th>3</th>\n",
       "      <td>1984 (Signet Classics)</td>\n",
       "      <td>George Orwell</td>\n",
       "      <td>4.7</td>\n",
       "      <td>21424</td>\n",
       "      <td>6</td>\n",
       "      <td>2017</td>\n",
       "      <td>Fiction</td>\n",
       "    </tr>\n",
       "    <tr>\n",
       "      <th>4</th>\n",
       "      <td>5,000 Awesome Facts (About Everything!) (Natio...</td>\n",
       "      <td>National Geographic Kids</td>\n",
       "      <td>4.8</td>\n",
       "      <td>7665</td>\n",
       "      <td>12</td>\n",
       "      <td>2019</td>\n",
       "      <td>Non Fiction</td>\n",
       "    </tr>\n",
       "    <tr>\n",
       "      <th>...</th>\n",
       "      <td>...</td>\n",
       "      <td>...</td>\n",
       "      <td>...</td>\n",
       "      <td>...</td>\n",
       "      <td>...</td>\n",
       "      <td>...</td>\n",
       "      <td>...</td>\n",
       "    </tr>\n",
       "    <tr>\n",
       "      <th>545</th>\n",
       "      <td>Wrecking Ball (Diary of a Wimpy Kid Book 14)</td>\n",
       "      <td>Jeff Kinney</td>\n",
       "      <td>4.9</td>\n",
       "      <td>9413</td>\n",
       "      <td>8</td>\n",
       "      <td>2019</td>\n",
       "      <td>Fiction</td>\n",
       "    </tr>\n",
       "    <tr>\n",
       "      <th>546</th>\n",
       "      <td>You Are a Badass: How to Stop Doubting Your Gr...</td>\n",
       "      <td>Jen Sincero</td>\n",
       "      <td>4.7</td>\n",
       "      <td>14331</td>\n",
       "      <td>8</td>\n",
       "      <td>2016</td>\n",
       "      <td>Non Fiction</td>\n",
       "    </tr>\n",
       "    <tr>\n",
       "      <th>547</th>\n",
       "      <td>You Are a Badass: How to Stop Doubting Your Gr...</td>\n",
       "      <td>Jen Sincero</td>\n",
       "      <td>4.7</td>\n",
       "      <td>14331</td>\n",
       "      <td>8</td>\n",
       "      <td>2017</td>\n",
       "      <td>Non Fiction</td>\n",
       "    </tr>\n",
       "    <tr>\n",
       "      <th>548</th>\n",
       "      <td>You Are a Badass: How to Stop Doubting Your Gr...</td>\n",
       "      <td>Jen Sincero</td>\n",
       "      <td>4.7</td>\n",
       "      <td>14331</td>\n",
       "      <td>8</td>\n",
       "      <td>2018</td>\n",
       "      <td>Non Fiction</td>\n",
       "    </tr>\n",
       "    <tr>\n",
       "      <th>549</th>\n",
       "      <td>You Are a Badass: How to Stop Doubting Your Gr...</td>\n",
       "      <td>Jen Sincero</td>\n",
       "      <td>4.7</td>\n",
       "      <td>14331</td>\n",
       "      <td>8</td>\n",
       "      <td>2019</td>\n",
       "      <td>Non Fiction</td>\n",
       "    </tr>\n",
       "  </tbody>\n",
       "</table>\n",
       "<p>550 rows × 7 columns</p>\n",
       "</div>"
      ],
      "text/plain": [
       "                                                  Name  \\\n",
       "0                        10-Day Green Smoothie Cleanse   \n",
       "1                                    11/22/63: A Novel   \n",
       "2              12 Rules for Life: An Antidote to Chaos   \n",
       "3                               1984 (Signet Classics)   \n",
       "4    5,000 Awesome Facts (About Everything!) (Natio...   \n",
       "..                                                 ...   \n",
       "545       Wrecking Ball (Diary of a Wimpy Kid Book 14)   \n",
       "546  You Are a Badass: How to Stop Doubting Your Gr...   \n",
       "547  You Are a Badass: How to Stop Doubting Your Gr...   \n",
       "548  You Are a Badass: How to Stop Doubting Your Gr...   \n",
       "549  You Are a Badass: How to Stop Doubting Your Gr...   \n",
       "\n",
       "                       Author  User Rating  Reviews  Price  Year        Genre  \n",
       "0                    JJ Smith          4.7    17350      8  2016  Non Fiction  \n",
       "1                Stephen King          4.6     2052     22  2011      Fiction  \n",
       "2          Jordan B. Peterson          4.7    18979     15  2018  Non Fiction  \n",
       "3               George Orwell          4.7    21424      6  2017      Fiction  \n",
       "4    National Geographic Kids          4.8     7665     12  2019  Non Fiction  \n",
       "..                        ...          ...      ...    ...   ...          ...  \n",
       "545               Jeff Kinney          4.9     9413      8  2019      Fiction  \n",
       "546               Jen Sincero          4.7    14331      8  2016  Non Fiction  \n",
       "547               Jen Sincero          4.7    14331      8  2017  Non Fiction  \n",
       "548               Jen Sincero          4.7    14331      8  2018  Non Fiction  \n",
       "549               Jen Sincero          4.7    14331      8  2019  Non Fiction  \n",
       "\n",
       "[550 rows x 7 columns]"
      ]
     },
     "execution_count": 3,
     "metadata": {},
     "output_type": "execute_result"
    }
   ],
   "source": [
    "df=pd.read_csv(\"../input/amazon-top-50-bestselling-books-2009-2019/bestsellers with categories.csv\")\n",
    "df"
   ]
  },
  {
   "cell_type": "code",
   "execution_count": 4,
   "id": "28f1d377",
   "metadata": {
    "execution": {
     "iopub.execute_input": "2021-09-14T13:15:35.824916Z",
     "iopub.status.busy": "2021-09-14T13:15:35.824201Z",
     "iopub.status.idle": "2021-09-14T13:15:35.845647Z",
     "shell.execute_reply": "2021-09-14T13:15:35.845125Z",
     "shell.execute_reply.started": "2021-09-14T13:05:45.831320Z"
    },
    "papermill": {
     "duration": 0.05046,
     "end_time": "2021-09-14T13:15:35.845828",
     "exception": false,
     "start_time": "2021-09-14T13:15:35.795368",
     "status": "completed"
    },
    "tags": []
   },
   "outputs": [
    {
     "data": {
      "text/html": [
       "<div>\n",
       "<style scoped>\n",
       "    .dataframe tbody tr th:only-of-type {\n",
       "        vertical-align: middle;\n",
       "    }\n",
       "\n",
       "    .dataframe tbody tr th {\n",
       "        vertical-align: top;\n",
       "    }\n",
       "\n",
       "    .dataframe thead th {\n",
       "        text-align: right;\n",
       "    }\n",
       "</style>\n",
       "<table border=\"1\" class=\"dataframe\">\n",
       "  <thead>\n",
       "    <tr style=\"text-align: right;\">\n",
       "      <th></th>\n",
       "      <th>User Rating</th>\n",
       "      <th>Reviews</th>\n",
       "      <th>Price</th>\n",
       "      <th>Year</th>\n",
       "    </tr>\n",
       "  </thead>\n",
       "  <tbody>\n",
       "    <tr>\n",
       "      <th>count</th>\n",
       "      <td>550.000000</td>\n",
       "      <td>550.000000</td>\n",
       "      <td>550.000000</td>\n",
       "      <td>550.000000</td>\n",
       "    </tr>\n",
       "    <tr>\n",
       "      <th>mean</th>\n",
       "      <td>4.618364</td>\n",
       "      <td>11953.281818</td>\n",
       "      <td>13.100000</td>\n",
       "      <td>2014.000000</td>\n",
       "    </tr>\n",
       "    <tr>\n",
       "      <th>std</th>\n",
       "      <td>0.226980</td>\n",
       "      <td>11731.132017</td>\n",
       "      <td>10.842262</td>\n",
       "      <td>3.165156</td>\n",
       "    </tr>\n",
       "    <tr>\n",
       "      <th>min</th>\n",
       "      <td>3.300000</td>\n",
       "      <td>37.000000</td>\n",
       "      <td>0.000000</td>\n",
       "      <td>2009.000000</td>\n",
       "    </tr>\n",
       "    <tr>\n",
       "      <th>25%</th>\n",
       "      <td>4.500000</td>\n",
       "      <td>4058.000000</td>\n",
       "      <td>7.000000</td>\n",
       "      <td>2011.000000</td>\n",
       "    </tr>\n",
       "    <tr>\n",
       "      <th>50%</th>\n",
       "      <td>4.700000</td>\n",
       "      <td>8580.000000</td>\n",
       "      <td>11.000000</td>\n",
       "      <td>2014.000000</td>\n",
       "    </tr>\n",
       "    <tr>\n",
       "      <th>75%</th>\n",
       "      <td>4.800000</td>\n",
       "      <td>17253.250000</td>\n",
       "      <td>16.000000</td>\n",
       "      <td>2017.000000</td>\n",
       "    </tr>\n",
       "    <tr>\n",
       "      <th>max</th>\n",
       "      <td>4.900000</td>\n",
       "      <td>87841.000000</td>\n",
       "      <td>105.000000</td>\n",
       "      <td>2019.000000</td>\n",
       "    </tr>\n",
       "  </tbody>\n",
       "</table>\n",
       "</div>"
      ],
      "text/plain": [
       "       User Rating       Reviews       Price         Year\n",
       "count   550.000000    550.000000  550.000000   550.000000\n",
       "mean      4.618364  11953.281818   13.100000  2014.000000\n",
       "std       0.226980  11731.132017   10.842262     3.165156\n",
       "min       3.300000     37.000000    0.000000  2009.000000\n",
       "25%       4.500000   4058.000000    7.000000  2011.000000\n",
       "50%       4.700000   8580.000000   11.000000  2014.000000\n",
       "75%       4.800000  17253.250000   16.000000  2017.000000\n",
       "max       4.900000  87841.000000  105.000000  2019.000000"
      ]
     },
     "execution_count": 4,
     "metadata": {},
     "output_type": "execute_result"
    }
   ],
   "source": [
    "df.describe()\n"
   ]
  },
  {
   "cell_type": "code",
   "execution_count": 5,
   "id": "10d567d9",
   "metadata": {
    "execution": {
     "iopub.execute_input": "2021-09-14T13:15:35.898612Z",
     "iopub.status.busy": "2021-09-14T13:15:35.897761Z",
     "iopub.status.idle": "2021-09-14T13:15:35.902216Z",
     "shell.execute_reply": "2021-09-14T13:15:35.901680Z",
     "shell.execute_reply.started": "2021-09-14T13:05:45.866871Z"
    },
    "papermill": {
     "duration": 0.038068,
     "end_time": "2021-09-14T13:15:35.902373",
     "exception": false,
     "start_time": "2021-09-14T13:15:35.864305",
     "status": "completed"
    },
    "tags": []
   },
   "outputs": [
    {
     "name": "stdout",
     "output_type": "stream",
     "text": [
      "<class 'pandas.core.frame.DataFrame'>\n",
      "RangeIndex: 550 entries, 0 to 549\n",
      "Data columns (total 7 columns):\n",
      " #   Column       Non-Null Count  Dtype  \n",
      "---  ------       --------------  -----  \n",
      " 0   Name         550 non-null    object \n",
      " 1   Author       550 non-null    object \n",
      " 2   User Rating  550 non-null    float64\n",
      " 3   Reviews      550 non-null    int64  \n",
      " 4   Price        550 non-null    int64  \n",
      " 5   Year         550 non-null    int64  \n",
      " 6   Genre        550 non-null    object \n",
      "dtypes: float64(1), int64(3), object(3)\n",
      "memory usage: 30.2+ KB\n"
     ]
    }
   ],
   "source": [
    "df.info()"
   ]
  },
  {
   "cell_type": "code",
   "execution_count": 6,
   "id": "f8f29d50",
   "metadata": {
    "execution": {
     "iopub.execute_input": "2021-09-14T13:15:35.943993Z",
     "iopub.status.busy": "2021-09-14T13:15:35.943293Z",
     "iopub.status.idle": "2021-09-14T13:15:35.949729Z",
     "shell.execute_reply": "2021-09-14T13:15:35.949071Z",
     "shell.execute_reply.started": "2021-09-14T13:07:32.821006Z"
    },
    "papermill": {
     "duration": 0.028443,
     "end_time": "2021-09-14T13:15:35.949913",
     "exception": false,
     "start_time": "2021-09-14T13:15:35.921470",
     "status": "completed"
    },
    "tags": []
   },
   "outputs": [
    {
     "data": {
      "text/plain": [
       "Index(['Name', 'Author', 'User Rating', 'Reviews', 'Price', 'Year', 'Genre'], dtype='object')"
      ]
     },
     "execution_count": 6,
     "metadata": {},
     "output_type": "execute_result"
    }
   ],
   "source": [
    "df.columns"
   ]
  },
  {
   "cell_type": "code",
   "execution_count": null,
   "id": "46394c9c",
   "metadata": {
    "execution": {
     "iopub.execute_input": "2021-09-14T13:13:26.101251Z",
     "iopub.status.busy": "2021-09-14T13:13:26.100913Z",
     "iopub.status.idle": "2021-09-14T13:13:26.118055Z",
     "shell.execute_reply": "2021-09-14T13:13:26.117095Z",
     "shell.execute_reply.started": "2021-09-14T13:13:26.101224Z"
    },
    "papermill": {
     "duration": 0.019692,
     "end_time": "2021-09-14T13:15:35.988910",
     "exception": false,
     "start_time": "2021-09-14T13:15:35.969218",
     "status": "completed"
    },
    "tags": []
   },
   "outputs": [],
   "source": []
  },
  {
   "cell_type": "code",
   "execution_count": 7,
   "id": "3cbe056d",
   "metadata": {
    "execution": {
     "iopub.execute_input": "2021-09-14T13:15:36.034495Z",
     "iopub.status.busy": "2021-09-14T13:15:36.033446Z",
     "iopub.status.idle": "2021-09-14T13:15:36.038673Z",
     "shell.execute_reply": "2021-09-14T13:15:36.038027Z",
     "shell.execute_reply.started": "2021-09-14T13:05:45.885773Z"
    },
    "papermill": {
     "duration": 0.029725,
     "end_time": "2021-09-14T13:15:36.038834",
     "exception": false,
     "start_time": "2021-09-14T13:15:36.009109",
     "status": "completed"
    },
    "tags": []
   },
   "outputs": [
    {
     "data": {
      "text/plain": [
       "(550, 7)"
      ]
     },
     "execution_count": 7,
     "metadata": {},
     "output_type": "execute_result"
    }
   ],
   "source": [
    "df.shape"
   ]
  },
  {
   "cell_type": "code",
   "execution_count": 8,
   "id": "03db96c0",
   "metadata": {
    "execution": {
     "iopub.execute_input": "2021-09-14T13:15:36.083450Z",
     "iopub.status.busy": "2021-09-14T13:15:36.082574Z",
     "iopub.status.idle": "2021-09-14T13:15:36.087398Z",
     "shell.execute_reply": "2021-09-14T13:15:36.086905Z",
     "shell.execute_reply.started": "2021-09-14T13:05:45.900510Z"
    },
    "papermill": {
     "duration": 0.029534,
     "end_time": "2021-09-14T13:15:36.087545",
     "exception": false,
     "start_time": "2021-09-14T13:15:36.058011",
     "status": "completed"
    },
    "tags": []
   },
   "outputs": [
    {
     "data": {
      "text/plain": [
       "3850"
      ]
     },
     "execution_count": 8,
     "metadata": {},
     "output_type": "execute_result"
    }
   ],
   "source": [
    "df.size"
   ]
  },
  {
   "cell_type": "code",
   "execution_count": 9,
   "id": "3cb424b3",
   "metadata": {
    "execution": {
     "iopub.execute_input": "2021-09-14T13:15:36.136344Z",
     "iopub.status.busy": "2021-09-14T13:15:36.135358Z",
     "iopub.status.idle": "2021-09-14T13:15:36.139928Z",
     "shell.execute_reply": "2021-09-14T13:15:36.139293Z",
     "shell.execute_reply.started": "2021-09-14T13:05:45.911139Z"
    },
    "papermill": {
     "duration": 0.033056,
     "end_time": "2021-09-14T13:15:36.140082",
     "exception": false,
     "start_time": "2021-09-14T13:15:36.107026",
     "status": "completed"
    },
    "tags": []
   },
   "outputs": [
    {
     "data": {
      "text/plain": [
       "Name           0\n",
       "Author         0\n",
       "User Rating    0\n",
       "Reviews        0\n",
       "Price          0\n",
       "Year           0\n",
       "Genre          0\n",
       "dtype: int64"
      ]
     },
     "execution_count": 9,
     "metadata": {},
     "output_type": "execute_result"
    }
   ],
   "source": [
    "df.isnull().sum()"
   ]
  },
  {
   "cell_type": "code",
   "execution_count": 10,
   "id": "96f159a6",
   "metadata": {
    "execution": {
     "iopub.execute_input": "2021-09-14T13:15:36.191751Z",
     "iopub.status.busy": "2021-09-14T13:15:36.185982Z",
     "iopub.status.idle": "2021-09-14T13:15:36.203215Z",
     "shell.execute_reply": "2021-09-14T13:15:36.202607Z",
     "shell.execute_reply.started": "2021-09-14T13:05:45.923393Z"
    },
    "papermill": {
     "duration": 0.043364,
     "end_time": "2021-09-14T13:15:36.203359",
     "exception": false,
     "start_time": "2021-09-14T13:15:36.159995",
     "status": "completed"
    },
    "tags": []
   },
   "outputs": [
    {
     "data": {
      "text/html": [
       "<div>\n",
       "<style scoped>\n",
       "    .dataframe tbody tr th:only-of-type {\n",
       "        vertical-align: middle;\n",
       "    }\n",
       "\n",
       "    .dataframe tbody tr th {\n",
       "        vertical-align: top;\n",
       "    }\n",
       "\n",
       "    .dataframe thead th {\n",
       "        text-align: right;\n",
       "    }\n",
       "</style>\n",
       "<table border=\"1\" class=\"dataframe\">\n",
       "  <thead>\n",
       "    <tr style=\"text-align: right;\">\n",
       "      <th></th>\n",
       "      <th>Name</th>\n",
       "      <th>Author</th>\n",
       "      <th>User Rating</th>\n",
       "      <th>Reviews</th>\n",
       "      <th>Price</th>\n",
       "      <th>Year</th>\n",
       "      <th>Genre</th>\n",
       "    </tr>\n",
       "  </thead>\n",
       "  <tbody>\n",
       "    <tr>\n",
       "      <th>534</th>\n",
       "      <td>Where the Crawdads Sing</td>\n",
       "      <td>Delia Owens</td>\n",
       "      <td>4.8</td>\n",
       "      <td>87841</td>\n",
       "      <td>15</td>\n",
       "      <td>2019</td>\n",
       "      <td>Fiction</td>\n",
       "    </tr>\n",
       "    <tr>\n",
       "      <th>382</th>\n",
       "      <td>The Girl on the Train</td>\n",
       "      <td>Paula Hawkins</td>\n",
       "      <td>4.1</td>\n",
       "      <td>79446</td>\n",
       "      <td>18</td>\n",
       "      <td>2015</td>\n",
       "      <td>Fiction</td>\n",
       "    </tr>\n",
       "    <tr>\n",
       "      <th>383</th>\n",
       "      <td>The Girl on the Train</td>\n",
       "      <td>Paula Hawkins</td>\n",
       "      <td>4.1</td>\n",
       "      <td>79446</td>\n",
       "      <td>7</td>\n",
       "      <td>2016</td>\n",
       "      <td>Fiction</td>\n",
       "    </tr>\n",
       "    <tr>\n",
       "      <th>32</th>\n",
       "      <td>Becoming</td>\n",
       "      <td>Michelle Obama</td>\n",
       "      <td>4.8</td>\n",
       "      <td>61133</td>\n",
       "      <td>11</td>\n",
       "      <td>2018</td>\n",
       "      <td>Non Fiction</td>\n",
       "    </tr>\n",
       "    <tr>\n",
       "      <th>33</th>\n",
       "      <td>Becoming</td>\n",
       "      <td>Michelle Obama</td>\n",
       "      <td>4.8</td>\n",
       "      <td>61133</td>\n",
       "      <td>11</td>\n",
       "      <td>2019</td>\n",
       "      <td>Non Fiction</td>\n",
       "    </tr>\n",
       "    <tr>\n",
       "      <th>137</th>\n",
       "      <td>Gone Girl</td>\n",
       "      <td>Gillian Flynn</td>\n",
       "      <td>4.0</td>\n",
       "      <td>57271</td>\n",
       "      <td>9</td>\n",
       "      <td>2014</td>\n",
       "      <td>Fiction</td>\n",
       "    </tr>\n",
       "    <tr>\n",
       "      <th>135</th>\n",
       "      <td>Gone Girl</td>\n",
       "      <td>Gillian Flynn</td>\n",
       "      <td>4.0</td>\n",
       "      <td>57271</td>\n",
       "      <td>10</td>\n",
       "      <td>2012</td>\n",
       "      <td>Fiction</td>\n",
       "    </tr>\n",
       "    <tr>\n",
       "      <th>136</th>\n",
       "      <td>Gone Girl</td>\n",
       "      <td>Gillian Flynn</td>\n",
       "      <td>4.0</td>\n",
       "      <td>57271</td>\n",
       "      <td>10</td>\n",
       "      <td>2013</td>\n",
       "      <td>Fiction</td>\n",
       "    </tr>\n",
       "    <tr>\n",
       "      <th>368</th>\n",
       "      <td>The Fault in Our Stars</td>\n",
       "      <td>John Green</td>\n",
       "      <td>4.7</td>\n",
       "      <td>50482</td>\n",
       "      <td>13</td>\n",
       "      <td>2014</td>\n",
       "      <td>Fiction</td>\n",
       "    </tr>\n",
       "    <tr>\n",
       "      <th>367</th>\n",
       "      <td>The Fault in Our Stars</td>\n",
       "      <td>John Green</td>\n",
       "      <td>4.7</td>\n",
       "      <td>50482</td>\n",
       "      <td>7</td>\n",
       "      <td>2014</td>\n",
       "      <td>Fiction</td>\n",
       "    </tr>\n",
       "  </tbody>\n",
       "</table>\n",
       "</div>"
      ],
      "text/plain": [
       "                        Name          Author  User Rating  Reviews  Price  \\\n",
       "534  Where the Crawdads Sing     Delia Owens          4.8    87841     15   \n",
       "382    The Girl on the Train   Paula Hawkins          4.1    79446     18   \n",
       "383    The Girl on the Train   Paula Hawkins          4.1    79446      7   \n",
       "32                  Becoming  Michelle Obama          4.8    61133     11   \n",
       "33                  Becoming  Michelle Obama          4.8    61133     11   \n",
       "137                Gone Girl   Gillian Flynn          4.0    57271      9   \n",
       "135                Gone Girl   Gillian Flynn          4.0    57271     10   \n",
       "136                Gone Girl   Gillian Flynn          4.0    57271     10   \n",
       "368   The Fault in Our Stars      John Green          4.7    50482     13   \n",
       "367   The Fault in Our Stars      John Green          4.7    50482      7   \n",
       "\n",
       "     Year        Genre  \n",
       "534  2019      Fiction  \n",
       "382  2015      Fiction  \n",
       "383  2016      Fiction  \n",
       "32   2018  Non Fiction  \n",
       "33   2019  Non Fiction  \n",
       "137  2014      Fiction  \n",
       "135  2012      Fiction  \n",
       "136  2013      Fiction  \n",
       "368  2014      Fiction  \n",
       "367  2014      Fiction  "
      ]
     },
     "execution_count": 10,
     "metadata": {},
     "output_type": "execute_result"
    }
   ],
   "source": [
    "top_10=df.sort_values(\"Reviews\",ascending=False)[:10]\n",
    "top_10"
   ]
  },
  {
   "cell_type": "code",
   "execution_count": 11,
   "id": "9233953d",
   "metadata": {
    "execution": {
     "iopub.execute_input": "2021-09-14T13:15:36.252160Z",
     "iopub.status.busy": "2021-09-14T13:15:36.251483Z",
     "iopub.status.idle": "2021-09-14T13:15:36.439221Z",
     "shell.execute_reply": "2021-09-14T13:15:36.438591Z",
     "shell.execute_reply.started": "2021-09-14T13:05:45.947855Z"
    },
    "papermill": {
     "duration": 0.215301,
     "end_time": "2021-09-14T13:15:36.439413",
     "exception": false,
     "start_time": "2021-09-14T13:15:36.224112",
     "status": "completed"
    },
    "tags": []
   },
   "outputs": [
    {
     "data": {
      "text/plain": [
       "<AxesSubplot:ylabel='Genre'>"
      ]
     },
     "execution_count": 11,
     "metadata": {},
     "output_type": "execute_result"
    },
    {
     "data": {
      "image/png": "[encoded data removed]",
      "text/plain": [
       "<Figure size 432x288 with 1 Axes>"
      ]
     },
     "metadata": {},
     "output_type": "display_data"
    }
   ],
   "source": [
    "df[\"Genre\"].value_counts().plot(kind=\"pie\", autopct='%.2f',labels=df[\"Genre\"].unique())"
   ]
  },
  {
   "cell_type": "code",
   "execution_count": 12,
   "id": "90f533bc",
   "metadata": {
    "execution": {
     "iopub.execute_input": "2021-09-14T13:15:36.531015Z",
     "iopub.status.busy": "2021-09-14T13:15:36.521783Z",
     "iopub.status.idle": "2021-09-14T13:15:36.675713Z",
     "shell.execute_reply": "2021-09-14T13:15:36.675133Z",
     "shell.execute_reply.started": "2021-09-14T13:05:46.130731Z"
    },
    "papermill": {
     "duration": 0.214546,
     "end_time": "2021-09-14T13:15:36.675886",
     "exception": false,
     "start_time": "2021-09-14T13:15:36.461340",
     "status": "completed"
    },
    "tags": []
   },
   "outputs": [
    {
     "data": {
      "text/plain": [
       "<AxesSubplot:ylabel='Year'>"
      ]
     },
     "execution_count": 12,
     "metadata": {},
     "output_type": "execute_result"
    },
    {
     "data": {
      "image/png": "[encoded data removed]",
      "text/plain": [
       "<Figure size 432x288 with 1 Axes>"
      ]
     },
     "metadata": {},
     "output_type": "display_data"
    }
   ],
   "source": [
    "df[\"Year\"].value_counts().plot(kind=\"pie\", autopct='%.2f',labels=df[\"Year\"].unique())"
   ]
  },
  {
   "cell_type": "code",
   "execution_count": 13,
   "id": "e3292dc9",
   "metadata": {
    "execution": {
     "iopub.execute_input": "2021-09-14T13:15:36.731969Z",
     "iopub.status.busy": "2021-09-14T13:15:36.728854Z",
     "iopub.status.idle": "2021-09-14T13:15:36.970088Z",
     "shell.execute_reply": "2021-09-14T13:15:36.969286Z",
     "shell.execute_reply.started": "2021-09-14T13:05:46.336490Z"
    },
    "papermill": {
     "duration": 0.270843,
     "end_time": "2021-09-14T13:15:36.970271",
     "exception": false,
     "start_time": "2021-09-14T13:15:36.699428",
     "status": "completed"
    },
    "tags": []
   },
   "outputs": [
    {
     "data": {
      "text/plain": [
       "<AxesSubplot:xlabel='User Rating', ylabel='count'>"
      ]
     },
     "execution_count": 13,
     "metadata": {},
     "output_type": "execute_result"
    },
    {
     "data": {
      "image/png": "[encoded data removed]",
      "text/plain": [
       "<Figure size 432x288 with 1 Axes>"
      ]
     },
     "metadata": {
      "needs_background": "light"
     },
     "output_type": "display_data"
    }
   ],
   "source": [
    "sns.countplot(x = df['User Rating'])"
   ]
  },
  {
   "cell_type": "code",
   "execution_count": 14,
   "id": "ef1e2e80",
   "metadata": {
    "execution": {
     "iopub.execute_input": "2021-09-14T13:15:37.026191Z",
     "iopub.status.busy": "2021-09-14T13:15:37.025532Z",
     "iopub.status.idle": "2021-09-14T13:15:37.030433Z",
     "shell.execute_reply": "2021-09-14T13:15:37.029796Z",
     "shell.execute_reply.started": "2021-09-14T13:05:46.599909Z"
    },
    "papermill": {
     "duration": 0.035422,
     "end_time": "2021-09-14T13:15:37.030595",
     "exception": false,
     "start_time": "2021-09-14T13:15:36.995173",
     "status": "completed"
    },
    "tags": []
   },
   "outputs": [
    {
     "data": {
      "text/plain": [
       "4.9"
      ]
     },
     "execution_count": 14,
     "metadata": {},
     "output_type": "execute_result"
    }
   ],
   "source": [
    "df['User Rating'].max()"
   ]
  },
  {
   "cell_type": "code",
   "execution_count": 15,
   "id": "4cfc9ba3",
   "metadata": {
    "execution": {
     "iopub.execute_input": "2021-09-14T13:15:37.097812Z",
     "iopub.status.busy": "2021-09-14T13:15:37.092531Z",
     "iopub.status.idle": "2021-09-14T13:15:37.104485Z",
     "shell.execute_reply": "2021-09-14T13:15:37.103952Z",
     "shell.execute_reply.started": "2021-09-14T13:05:46.609625Z"
    },
    "papermill": {
     "duration": 0.049685,
     "end_time": "2021-09-14T13:15:37.104639",
     "exception": false,
     "start_time": "2021-09-14T13:15:37.054954",
     "status": "completed"
    },
    "tags": []
   },
   "outputs": [
    {
     "data": {
      "text/html": [
       "<div>\n",
       "<style scoped>\n",
       "    .dataframe tbody tr th:only-of-type {\n",
       "        vertical-align: middle;\n",
       "    }\n",
       "\n",
       "    .dataframe tbody tr th {\n",
       "        vertical-align: top;\n",
       "    }\n",
       "\n",
       "    .dataframe thead th {\n",
       "        text-align: right;\n",
       "    }\n",
       "</style>\n",
       "<table border=\"1\" class=\"dataframe\">\n",
       "  <thead>\n",
       "    <tr style=\"text-align: right;\">\n",
       "      <th></th>\n",
       "      <th>Author</th>\n",
       "      <th>User Rating</th>\n",
       "    </tr>\n",
       "  </thead>\n",
       "  <tbody>\n",
       "    <tr>\n",
       "      <th>0</th>\n",
       "      <td>Alice Schertle</td>\n",
       "      <td>4.9</td>\n",
       "    </tr>\n",
       "    <tr>\n",
       "      <th>1</th>\n",
       "      <td>Bill Martin Jr.</td>\n",
       "      <td>4.9</td>\n",
       "    </tr>\n",
       "    <tr>\n",
       "      <th>2</th>\n",
       "      <td>Brandon Stanton</td>\n",
       "      <td>4.9</td>\n",
       "    </tr>\n",
       "    <tr>\n",
       "      <th>3</th>\n",
       "      <td>Chip Gaines</td>\n",
       "      <td>4.9</td>\n",
       "    </tr>\n",
       "    <tr>\n",
       "      <th>4</th>\n",
       "      <td>Dav Pilkey</td>\n",
       "      <td>4.9</td>\n",
       "    </tr>\n",
       "    <tr>\n",
       "      <th>5</th>\n",
       "      <td>Dr. Seuss</td>\n",
       "      <td>4.9</td>\n",
       "    </tr>\n",
       "    <tr>\n",
       "      <th>6</th>\n",
       "      <td>Emily Winfield Martin</td>\n",
       "      <td>4.9</td>\n",
       "    </tr>\n",
       "    <tr>\n",
       "      <th>7</th>\n",
       "      <td>Eric Carle</td>\n",
       "      <td>4.9</td>\n",
       "    </tr>\n",
       "    <tr>\n",
       "      <th>8</th>\n",
       "      <td>J. K. Rowling</td>\n",
       "      <td>4.9</td>\n",
       "    </tr>\n",
       "    <tr>\n",
       "      <th>9</th>\n",
       "      <td>J.K. Rowling</td>\n",
       "      <td>4.9</td>\n",
       "    </tr>\n",
       "    <tr>\n",
       "      <th>10</th>\n",
       "      <td>Jeff Kinney</td>\n",
       "      <td>4.9</td>\n",
       "    </tr>\n",
       "    <tr>\n",
       "      <th>11</th>\n",
       "      <td>Jill Twiss</td>\n",
       "      <td>4.9</td>\n",
       "    </tr>\n",
       "    <tr>\n",
       "      <th>12</th>\n",
       "      <td>Lin-Manuel Miranda</td>\n",
       "      <td>4.9</td>\n",
       "    </tr>\n",
       "    <tr>\n",
       "      <th>13</th>\n",
       "      <td>Mark R. Levin</td>\n",
       "      <td>4.9</td>\n",
       "    </tr>\n",
       "    <tr>\n",
       "      <th>14</th>\n",
       "      <td>Nathan W. Pyle</td>\n",
       "      <td>4.9</td>\n",
       "    </tr>\n",
       "    <tr>\n",
       "      <th>15</th>\n",
       "      <td>Patrick Thorpe</td>\n",
       "      <td>4.9</td>\n",
       "    </tr>\n",
       "    <tr>\n",
       "      <th>16</th>\n",
       "      <td>Pete Souza</td>\n",
       "      <td>4.9</td>\n",
       "    </tr>\n",
       "    <tr>\n",
       "      <th>17</th>\n",
       "      <td>Rush Limbaugh</td>\n",
       "      <td>4.9</td>\n",
       "    </tr>\n",
       "    <tr>\n",
       "      <th>18</th>\n",
       "      <td>Sarah Young</td>\n",
       "      <td>4.9</td>\n",
       "    </tr>\n",
       "    <tr>\n",
       "      <th>19</th>\n",
       "      <td>Sherri Duskey Rinker</td>\n",
       "      <td>4.9</td>\n",
       "    </tr>\n",
       "  </tbody>\n",
       "</table>\n",
       "</div>"
      ],
      "text/plain": [
       "                   Author  User Rating\n",
       "0          Alice Schertle          4.9\n",
       "1         Bill Martin Jr.          4.9\n",
       "2         Brandon Stanton          4.9\n",
       "3             Chip Gaines          4.9\n",
       "4              Dav Pilkey          4.9\n",
       "5               Dr. Seuss          4.9\n",
       "6   Emily Winfield Martin          4.9\n",
       "7              Eric Carle          4.9\n",
       "8           J. K. Rowling          4.9\n",
       "9            J.K. Rowling          4.9\n",
       "10            Jeff Kinney          4.9\n",
       "11             Jill Twiss          4.9\n",
       "12     Lin-Manuel Miranda          4.9\n",
       "13          Mark R. Levin          4.9\n",
       "14         Nathan W. Pyle          4.9\n",
       "15         Patrick Thorpe          4.9\n",
       "16             Pete Souza          4.9\n",
       "17          Rush Limbaugh          4.9\n",
       "18            Sarah Young          4.9\n",
       "19   Sherri Duskey Rinker          4.9"
      ]
     },
     "execution_count": 15,
     "metadata": {},
     "output_type": "execute_result"
    }
   ],
   "source": [
    "best_sellers = df[df[\"User Rating\"]==4.9]\n",
    "best_sellers=best_sellers.groupby(\"Author\")[\"User Rating\"].mean().reset_index()\n",
    "best_sellers"
   ]
  },
  {
   "cell_type": "code",
   "execution_count": 16,
   "id": "56439c18",
   "metadata": {
    "execution": {
     "iopub.execute_input": "2021-09-14T13:15:37.176589Z",
     "iopub.status.busy": "2021-09-14T13:15:37.175529Z",
     "iopub.status.idle": "2021-09-14T13:15:37.180964Z",
     "shell.execute_reply": "2021-09-14T13:15:37.180350Z",
     "shell.execute_reply.started": "2021-09-14T13:05:46.635896Z"
    },
    "papermill": {
     "duration": 0.050734,
     "end_time": "2021-09-14T13:15:37.181131",
     "exception": false,
     "start_time": "2021-09-14T13:15:37.130397",
     "status": "completed"
    },
    "tags": []
   },
   "outputs": [
    {
     "data": {
      "text/html": [
       "<div>\n",
       "<style scoped>\n",
       "    .dataframe tbody tr th:only-of-type {\n",
       "        vertical-align: middle;\n",
       "    }\n",
       "\n",
       "    .dataframe tbody tr th {\n",
       "        vertical-align: top;\n",
       "    }\n",
       "\n",
       "    .dataframe thead th {\n",
       "        text-align: right;\n",
       "    }\n",
       "</style>\n",
       "<table border=\"1\" class=\"dataframe\">\n",
       "  <thead>\n",
       "    <tr style=\"text-align: right;\">\n",
       "      <th></th>\n",
       "      <th>User Rating</th>\n",
       "      <th>Reviews</th>\n",
       "      <th>Price</th>\n",
       "      <th>Year</th>\n",
       "    </tr>\n",
       "  </thead>\n",
       "  <tbody>\n",
       "    <tr>\n",
       "      <th>0</th>\n",
       "      <td>4.584</td>\n",
       "      <td>4710.12</td>\n",
       "      <td>15.40</td>\n",
       "      <td>2009</td>\n",
       "    </tr>\n",
       "    <tr>\n",
       "      <th>1</th>\n",
       "      <td>4.558</td>\n",
       "      <td>5479.62</td>\n",
       "      <td>13.48</td>\n",
       "      <td>2010</td>\n",
       "    </tr>\n",
       "    <tr>\n",
       "      <th>2</th>\n",
       "      <td>4.558</td>\n",
       "      <td>8100.82</td>\n",
       "      <td>15.10</td>\n",
       "      <td>2011</td>\n",
       "    </tr>\n",
       "    <tr>\n",
       "      <th>3</th>\n",
       "      <td>4.532</td>\n",
       "      <td>13090.92</td>\n",
       "      <td>15.30</td>\n",
       "      <td>2012</td>\n",
       "    </tr>\n",
       "    <tr>\n",
       "      <th>4</th>\n",
       "      <td>4.554</td>\n",
       "      <td>13098.14</td>\n",
       "      <td>14.60</td>\n",
       "      <td>2013</td>\n",
       "    </tr>\n",
       "    <tr>\n",
       "      <th>5</th>\n",
       "      <td>4.622</td>\n",
       "      <td>15859.94</td>\n",
       "      <td>14.64</td>\n",
       "      <td>2014</td>\n",
       "    </tr>\n",
       "    <tr>\n",
       "      <th>6</th>\n",
       "      <td>4.648</td>\n",
       "      <td>14233.38</td>\n",
       "      <td>10.42</td>\n",
       "      <td>2015</td>\n",
       "    </tr>\n",
       "    <tr>\n",
       "      <th>7</th>\n",
       "      <td>4.678</td>\n",
       "      <td>14196.00</td>\n",
       "      <td>13.18</td>\n",
       "      <td>2016</td>\n",
       "    </tr>\n",
       "    <tr>\n",
       "      <th>8</th>\n",
       "      <td>4.660</td>\n",
       "      <td>12888.40</td>\n",
       "      <td>11.38</td>\n",
       "      <td>2017</td>\n",
       "    </tr>\n",
       "    <tr>\n",
       "      <th>9</th>\n",
       "      <td>4.668</td>\n",
       "      <td>13930.42</td>\n",
       "      <td>10.52</td>\n",
       "      <td>2018</td>\n",
       "    </tr>\n",
       "    <tr>\n",
       "      <th>10</th>\n",
       "      <td>4.740</td>\n",
       "      <td>15898.34</td>\n",
       "      <td>10.08</td>\n",
       "      <td>2019</td>\n",
       "    </tr>\n",
       "  </tbody>\n",
       "</table>\n",
       "</div>"
      ],
      "text/plain": [
       "    User Rating   Reviews  Price  Year\n",
       "0         4.584   4710.12  15.40  2009\n",
       "1         4.558   5479.62  13.48  2010\n",
       "2         4.558   8100.82  15.10  2011\n",
       "3         4.532  13090.92  15.30  2012\n",
       "4         4.554  13098.14  14.60  2013\n",
       "5         4.622  15859.94  14.64  2014\n",
       "6         4.648  14233.38  10.42  2015\n",
       "7         4.678  14196.00  13.18  2016\n",
       "8         4.660  12888.40  11.38  2017\n",
       "9         4.668  13930.42  10.52  2018\n",
       "10        4.740  15898.34  10.08  2019"
      ]
     },
     "execution_count": 16,
     "metadata": {},
     "output_type": "execute_result"
    }
   ],
   "source": [
    "p_mean=df.groupby(\"Year\").mean()\n",
    "p_mean['Year'] = [2009, 2010, 2011, 2012, 2013, 2014, 2015, 2016, 2017, 2018, 2019]\n",
    "p_mean.reset_index(drop=True, inplace=True)\n",
    "p_mean"
   ]
  },
  {
   "cell_type": "code",
   "execution_count": 17,
   "id": "b6972774",
   "metadata": {
    "execution": {
     "iopub.execute_input": "2021-09-14T13:15:37.273367Z",
     "iopub.status.busy": "2021-09-14T13:15:37.272068Z",
     "iopub.status.idle": "2021-09-14T13:15:37.525959Z",
     "shell.execute_reply": "2021-09-14T13:15:37.525407Z",
     "shell.execute_reply.started": "2021-09-14T13:05:46.661780Z"
    },
    "papermill": {
     "duration": 0.317532,
     "end_time": "2021-09-14T13:15:37.526117",
     "exception": false,
     "start_time": "2021-09-14T13:15:37.208585",
     "status": "completed"
    },
    "tags": []
   },
   "outputs": [
    {
     "data": {
      "text/plain": [
       "<AxesSubplot:xlabel='Year', ylabel='Price'>"
      ]
     },
     "execution_count": 17,
     "metadata": {},
     "output_type": "execute_result"
    },
    {
     "data": {
      "image/png": "[encoded data removed]",
      "text/plain": [
       "<Figure size 432x288 with 1 Axes>"
      ]
     },
     "metadata": {
      "needs_background": "light"
     },
     "output_type": "display_data"
    }
   ],
   "source": [
    "sns.regplot(x=\"Year\", y=\"Price\",data=p_mean)"
   ]
  },
  {
   "cell_type": "code",
   "execution_count": 18,
   "id": "db36735c",
   "metadata": {
    "execution": {
     "iopub.execute_input": "2021-09-14T13:15:37.607317Z",
     "iopub.status.busy": "2021-09-14T13:15:37.588567Z",
     "iopub.status.idle": "2021-09-14T13:15:41.239527Z",
     "shell.execute_reply": "2021-09-14T13:15:41.240052Z",
     "shell.execute_reply.started": "2021-09-14T13:05:46.977340Z"
    },
    "papermill": {
     "duration": 3.68737,
     "end_time": "2021-09-14T13:15:41.240252",
     "exception": false,
     "start_time": "2021-09-14T13:15:37.552882",
     "status": "completed"
    },
    "tags": []
   },
   "outputs": [
    {
     "data": {
      "text/plain": [
       "<seaborn.axisgrid.PairGrid at 0x7f9025497d90>"
      ]
     },
     "execution_count": 18,
     "metadata": {},
     "output_type": "execute_result"
    },
    {
     "data": {
      "image/png": "[encoded data removed]",
      "text/plain": [
       "<Figure size 720x720 with 20 Axes>"
      ]
     },
     "metadata": {
      "needs_background": "light"
     },
     "output_type": "display_data"
    }
   ],
   "source": [
    "sns.pairplot(df)"
   ]
  },
  {
   "cell_type": "code",
   "execution_count": null,
   "id": "d8553879",
   "metadata": {
    "papermill": {
     "duration": 0.030206,
     "end_time": "2021-09-14T13:15:41.301253",
     "exception": false,
     "start_time": "2021-09-14T13:15:41.271047",
     "status": "completed"
    },
    "tags": []
   },
   "outputs": [],
   "source": []
  }
 ],
 "metadata": {
  "kernelspec": {
   "display_name": "Python 3",
   "language": "python",
   "name": "python3"
  },
  "language_info": {
   "codemirror_mode": {
    "name": "ipython",
    "version": 3
   },
   "file_extension": ".py",
   "mimetype": "text/x-python",
   "name": "python",
   "nbconvert_exporter": "python",
   "pygments_lexer": "ipython3",
   "version": "3.7.10"
  },
  "papermill": {
   "default_parameters": {},
   "duration": 17.786083,
   "end_time": "2021-09-14T13:15:42.900165",
   "environment_variables": {},
   "exception": null,
   "input_path": "__notebook__.ipynb",
   "output_path": "__notebook__.ipynb",
   "parameters": {},
   "start_time": "2021-09-14T13:15:25.114082",
   "version": "2.3.3"
  }
 },
 "nbformat": 4,
 "nbformat_minor": 5
}
